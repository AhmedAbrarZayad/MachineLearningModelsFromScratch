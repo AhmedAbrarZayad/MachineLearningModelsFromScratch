{
 "cells": [
  {
   "cell_type": "markdown",
   "metadata": {},
   "source": [
    "<h1> Using Linear Regression with scikitlearn to find the relation between the Distance and Delivery Time of Food Deliveries</h1>"
   ]
  },
  {
   "cell_type": "markdown",
   "metadata": {},
   "source": [
    "<h4> Import Libraries </h4>"
   ]
  },
  {
   "cell_type": "code",
   "execution_count": 2,
   "metadata": {},
   "outputs": [],
   "source": [
    "import matplotlib.pyplot as plt\n",
    "from sklearn.model_selection import train_test_split\n",
    "import numpy as np\n",
    "from sklearn.linear_model import LinearRegression\n",
    "import pandas as pd"
   ]
  },
  {
   "cell_type": "markdown",
   "metadata": {},
   "source": [
    "<h4> Load Data </h4>"
   ]
  },
  {
   "cell_type": "code",
   "execution_count": 3,
   "metadata": {},
   "outputs": [
    {
     "data": {
      "text/html": [
       "<div>\n",
       "<style scoped>\n",
       "    .dataframe tbody tr th:only-of-type {\n",
       "        vertical-align: middle;\n",
       "    }\n",
       "\n",
       "    .dataframe tbody tr th {\n",
       "        vertical-align: top;\n",
       "    }\n",
       "\n",
       "    .dataframe thead th {\n",
       "        text-align: right;\n",
       "    }\n",
       "</style>\n",
       "<table border=\"1\" class=\"dataframe\">\n",
       "  <thead>\n",
       "    <tr style=\"text-align: right;\">\n",
       "      <th></th>\n",
       "      <th>Order_ID</th>\n",
       "      <th>Distance_km</th>\n",
       "      <th>Weather</th>\n",
       "      <th>Traffic_Level</th>\n",
       "      <th>Time_of_Day</th>\n",
       "      <th>Vehicle_Type</th>\n",
       "      <th>Preparation_Time_min</th>\n",
       "      <th>Courier_Experience_yrs</th>\n",
       "      <th>Delivery_Time_min</th>\n",
       "    </tr>\n",
       "  </thead>\n",
       "  <tbody>\n",
       "    <tr>\n",
       "      <th>0</th>\n",
       "      <td>522</td>\n",
       "      <td>7.93</td>\n",
       "      <td>Windy</td>\n",
       "      <td>Low</td>\n",
       "      <td>Afternoon</td>\n",
       "      <td>Scooter</td>\n",
       "      <td>12</td>\n",
       "      <td>1.0</td>\n",
       "      <td>43</td>\n",
       "    </tr>\n",
       "    <tr>\n",
       "      <th>1</th>\n",
       "      <td>738</td>\n",
       "      <td>16.42</td>\n",
       "      <td>Clear</td>\n",
       "      <td>Medium</td>\n",
       "      <td>Evening</td>\n",
       "      <td>Bike</td>\n",
       "      <td>20</td>\n",
       "      <td>2.0</td>\n",
       "      <td>84</td>\n",
       "    </tr>\n",
       "    <tr>\n",
       "      <th>2</th>\n",
       "      <td>741</td>\n",
       "      <td>9.52</td>\n",
       "      <td>Foggy</td>\n",
       "      <td>Low</td>\n",
       "      <td>Night</td>\n",
       "      <td>Scooter</td>\n",
       "      <td>28</td>\n",
       "      <td>1.0</td>\n",
       "      <td>59</td>\n",
       "    </tr>\n",
       "    <tr>\n",
       "      <th>3</th>\n",
       "      <td>661</td>\n",
       "      <td>7.44</td>\n",
       "      <td>Rainy</td>\n",
       "      <td>Medium</td>\n",
       "      <td>Afternoon</td>\n",
       "      <td>Scooter</td>\n",
       "      <td>5</td>\n",
       "      <td>1.0</td>\n",
       "      <td>37</td>\n",
       "    </tr>\n",
       "    <tr>\n",
       "      <th>4</th>\n",
       "      <td>412</td>\n",
       "      <td>19.03</td>\n",
       "      <td>Clear</td>\n",
       "      <td>Low</td>\n",
       "      <td>Morning</td>\n",
       "      <td>Bike</td>\n",
       "      <td>16</td>\n",
       "      <td>5.0</td>\n",
       "      <td>68</td>\n",
       "    </tr>\n",
       "    <tr>\n",
       "      <th>...</th>\n",
       "      <td>...</td>\n",
       "      <td>...</td>\n",
       "      <td>...</td>\n",
       "      <td>...</td>\n",
       "      <td>...</td>\n",
       "      <td>...</td>\n",
       "      <td>...</td>\n",
       "      <td>...</td>\n",
       "      <td>...</td>\n",
       "    </tr>\n",
       "    <tr>\n",
       "      <th>995</th>\n",
       "      <td>107</td>\n",
       "      <td>8.50</td>\n",
       "      <td>Clear</td>\n",
       "      <td>High</td>\n",
       "      <td>Evening</td>\n",
       "      <td>Car</td>\n",
       "      <td>13</td>\n",
       "      <td>3.0</td>\n",
       "      <td>54</td>\n",
       "    </tr>\n",
       "    <tr>\n",
       "      <th>996</th>\n",
       "      <td>271</td>\n",
       "      <td>16.28</td>\n",
       "      <td>Rainy</td>\n",
       "      <td>Low</td>\n",
       "      <td>Morning</td>\n",
       "      <td>Scooter</td>\n",
       "      <td>8</td>\n",
       "      <td>9.0</td>\n",
       "      <td>71</td>\n",
       "    </tr>\n",
       "    <tr>\n",
       "      <th>997</th>\n",
       "      <td>861</td>\n",
       "      <td>15.62</td>\n",
       "      <td>Snowy</td>\n",
       "      <td>High</td>\n",
       "      <td>Evening</td>\n",
       "      <td>Scooter</td>\n",
       "      <td>26</td>\n",
       "      <td>2.0</td>\n",
       "      <td>81</td>\n",
       "    </tr>\n",
       "    <tr>\n",
       "      <th>998</th>\n",
       "      <td>436</td>\n",
       "      <td>14.17</td>\n",
       "      <td>Clear</td>\n",
       "      <td>Low</td>\n",
       "      <td>Afternoon</td>\n",
       "      <td>Bike</td>\n",
       "      <td>8</td>\n",
       "      <td>0.0</td>\n",
       "      <td>55</td>\n",
       "    </tr>\n",
       "    <tr>\n",
       "      <th>999</th>\n",
       "      <td>103</td>\n",
       "      <td>6.63</td>\n",
       "      <td>Foggy</td>\n",
       "      <td>Low</td>\n",
       "      <td>Night</td>\n",
       "      <td>Scooter</td>\n",
       "      <td>24</td>\n",
       "      <td>3.0</td>\n",
       "      <td>58</td>\n",
       "    </tr>\n",
       "  </tbody>\n",
       "</table>\n",
       "<p>1000 rows × 9 columns</p>\n",
       "</div>"
      ],
      "text/plain": [
       "     Order_ID  Distance_km Weather Traffic_Level Time_of_Day Vehicle_Type  \\\n",
       "0         522         7.93   Windy           Low   Afternoon      Scooter   \n",
       "1         738        16.42   Clear        Medium     Evening         Bike   \n",
       "2         741         9.52   Foggy           Low       Night      Scooter   \n",
       "3         661         7.44   Rainy        Medium   Afternoon      Scooter   \n",
       "4         412        19.03   Clear           Low     Morning         Bike   \n",
       "..        ...          ...     ...           ...         ...          ...   \n",
       "995       107         8.50   Clear          High     Evening          Car   \n",
       "996       271        16.28   Rainy           Low     Morning      Scooter   \n",
       "997       861        15.62   Snowy          High     Evening      Scooter   \n",
       "998       436        14.17   Clear           Low   Afternoon         Bike   \n",
       "999       103         6.63   Foggy           Low       Night      Scooter   \n",
       "\n",
       "     Preparation_Time_min  Courier_Experience_yrs  Delivery_Time_min  \n",
       "0                      12                     1.0                 43  \n",
       "1                      20                     2.0                 84  \n",
       "2                      28                     1.0                 59  \n",
       "3                       5                     1.0                 37  \n",
       "4                      16                     5.0                 68  \n",
       "..                    ...                     ...                ...  \n",
       "995                    13                     3.0                 54  \n",
       "996                     8                     9.0                 71  \n",
       "997                    26                     2.0                 81  \n",
       "998                     8                     0.0                 55  \n",
       "999                    24                     3.0                 58  \n",
       "\n",
       "[1000 rows x 9 columns]"
      ]
     },
     "execution_count": 3,
     "metadata": {},
     "output_type": "execute_result"
    }
   ],
   "source": [
    "data = pd.read_csv(\"Food_Delivery_Times.csv\")\n",
    "data"
   ]
  },
  {
   "cell_type": "markdown",
   "metadata": {},
   "source": [
    "<h4> Set x and y </h4>"
   ]
  },
  {
   "cell_type": "code",
   "execution_count": 4,
   "metadata": {},
   "outputs": [],
   "source": [
    "x = data['Distance_km']\n",
    "y = data['Delivery_Time_min']"
   ]
  },
  {
   "cell_type": "code",
   "execution_count": 5,
   "metadata": {},
   "outputs": [
    {
     "data": {
      "text/plain": [
       "0       7.93\n",
       "1      16.42\n",
       "2       9.52\n",
       "3       7.44\n",
       "4      19.03\n",
       "       ...  \n",
       "995     8.50\n",
       "996    16.28\n",
       "997    15.62\n",
       "998    14.17\n",
       "999     6.63\n",
       "Name: Distance_km, Length: 1000, dtype: float64"
      ]
     },
     "execution_count": 5,
     "metadata": {},
     "output_type": "execute_result"
    }
   ],
   "source": [
    "x"
   ]
  },
  {
   "cell_type": "code",
   "execution_count": 6,
   "metadata": {},
   "outputs": [
    {
     "data": {
      "text/plain": [
       "0      43\n",
       "1      84\n",
       "2      59\n",
       "3      37\n",
       "4      68\n",
       "       ..\n",
       "995    54\n",
       "996    71\n",
       "997    81\n",
       "998    55\n",
       "999    58\n",
       "Name: Delivery_Time_min, Length: 1000, dtype: int64"
      ]
     },
     "execution_count": 6,
     "metadata": {},
     "output_type": "execute_result"
    }
   ],
   "source": [
    "y"
   ]
  },
  {
   "cell_type": "markdown",
   "metadata": {},
   "source": [
    "<h4> See the scatter plot for x and y </h4>"
   ]
  },
  {
   "cell_type": "code",
   "execution_count": 7,
   "metadata": {},
   "outputs": [
    {
     "data": {
      "text/plain": [
       "Text(0, 0.5, 'Delivery Time min')"
      ]
     },
     "execution_count": 7,
     "metadata": {},
     "output_type": "execute_result"
    },
    {
     "data": {
      "image/png": "[encoded data removed]",
      "text/plain": [
       "<Figure size 640x480 with 1 Axes>"
      ]
     },
     "metadata": {},
     "output_type": "display_data"
    }
   ],
   "source": [
    "plt.scatter(x,y)\n",
    "plt.xlabel(\"Distance km\")\n",
    "plt.ylabel(\"Delivery Time min\")"
   ]
  },
  {
   "cell_type": "markdown",
   "metadata": {},
   "source": [
    "<h4> Split test and training data </h4>"
   ]
  },
  {
   "cell_type": "code",
   "execution_count": 8,
   "metadata": {},
   "outputs": [],
   "source": [
    "x_train,x_test,y_train,y_test = train_test_split(x, y, test_size=0.4, random_state=23)"
   ]
  },
  {
   "cell_type": "code",
   "execution_count": 9,
   "metadata": {},
   "outputs": [
    {
     "data": {
      "text/plain": [
       "522     9.34\n",
       "484    11.33\n",
       "182     0.95\n",
       "274    16.92\n",
       "361     9.45\n",
       "       ...  \n",
       "950     3.54\n",
       "969    16.07\n",
       "40      8.68\n",
       "742    17.61\n",
       "595    19.72\n",
       "Name: Distance_km, Length: 600, dtype: float64"
      ]
     },
     "execution_count": 9,
     "metadata": {},
     "output_type": "execute_result"
    }
   ],
   "source": [
    "x_train"
   ]
  },
  {
   "cell_type": "code",
   "execution_count": 10,
   "metadata": {},
   "outputs": [
    {
     "data": {
      "text/plain": [
       "522     40\n",
       "484     60\n",
       "182     44\n",
       "274     70\n",
       "361     49\n",
       "      ... \n",
       "950     41\n",
       "969     64\n",
       "40      52\n",
       "742     74\n",
       "595    109\n",
       "Name: Delivery_Time_min, Length: 600, dtype: int64"
      ]
     },
     "execution_count": 10,
     "metadata": {},
     "output_type": "execute_result"
    }
   ],
   "source": [
    "y_train"
   ]
  },
  {
   "cell_type": "markdown",
   "metadata": {},
   "source": [
    "<h4> Reshape them to 2D numpy arrays to be able to work with them using Linear Regression </h4>"
   ]
  },
  {
   "cell_type": "code",
   "execution_count": 12,
   "metadata": {},
   "outputs": [],
   "source": [
    "x_train = np.array(x_train).reshape(-1,1)\n",
    "x_test = np.array(x_test).reshape(-1,1)"
   ]
  },
  {
   "cell_type": "markdown",
   "metadata": {},
   "source": [
    "<h4> Define an object of LinearRegression class <h4>"
   ]
  },
  {
   "cell_type": "code",
   "execution_count": 13,
   "metadata": {},
   "outputs": [],
   "source": [
    "lr = LinearRegression()"
   ]
  },
  {
   "cell_type": "markdown",
   "metadata": {},
   "source": [
    "<h4> Fit the training data to calculate the value of m and c for the equation y = mx+c </h4>"
   ]
  },
  {
   "cell_type": "code",
   "execution_count": 14,
   "metadata": {},
   "outputs": [
    {
     "data": {
      "text/html": [
       "<style>#sk-container-id-1 {\n",
       "  /* Definition of color scheme common for light and dark mode */\n",
       "  --sklearn-color-text: black;\n",
       "  --sklearn-color-line: gray;\n",
       "  /* Definition of color scheme for unfitted estimators */\n",
       "  --sklearn-color-unfitted-level-0: #fff5e6;\n",
       "  --sklearn-color-unfitted-level-1: #f6e4d2;\n",
       "  --sklearn-color-unfitted-level-2: #ffe0b3;\n",
       "  --sklearn-color-unfitted-level-3: chocolate;\n",
       "  /* Definition of color scheme for fitted estimators */\n",
       "  --sklearn-color-fitted-level-0: #f0f8ff;\n",
       "  --sklearn-color-fitted-level-1: #d4ebff;\n",
       "  --sklearn-color-fitted-level-2: #b3dbfd;\n",
       "  --sklearn-color-fitted-level-3: cornflowerblue;\n",
       "\n",
       "  /* Specific color for light theme */\n",
       "  --sklearn-color-text-on-default-background: var(--sg-text-color, var(--theme-code-foreground, var(--jp-content-font-color1, black)));\n",
       "  --sklearn-color-background: var(--sg-background-color, var(--theme-background, var(--jp-layout-color0, white)));\n",
       "  --sklearn-color-border-box: var(--sg-text-color, var(--theme-code-foreground, var(--jp-content-font-color1, black)));\n",
       "  --sklearn-color-icon: #696969;\n",
       "\n",
       "  @media (prefers-color-scheme: dark) {\n",
       "    /* Redefinition of color scheme for dark theme */\n",
       "    --sklearn-color-text-on-default-background: var(--sg-text-color, var(--theme-code-foreground, var(--jp-content-font-color1, white)));\n",
       "    --sklearn-color-background: var(--sg-background-color, var(--theme-background, var(--jp-layout-color0, #111)));\n",
       "    --sklearn-color-border-box: var(--sg-text-color, var(--theme-code-foreground, var(--jp-content-font-color1, white)));\n",
       "    --sklearn-color-icon: #878787;\n",
       "  }\n",
       "}\n",
       "\n",
       "#sk-container-id-1 {\n",
       "  color: var(--sklearn-color-text);\n",
       "}\n",
       "\n",
       "#sk-container-id-1 pre {\n",
       "  padding: 0;\n",
       "}\n",
       "\n",
       "#sk-container-id-1 input.sk-hidden--visually {\n",
       "  border: 0;\n",
       "  clip: rect(1px 1px 1px 1px);\n",
       "  clip: rect(1px, 1px, 1px, 1px);\n",
       "  height: 1px;\n",
       "  margin: -1px;\n",
       "  overflow: hidden;\n",
       "  padding: 0;\n",
       "  position: absolute;\n",
       "  width: 1px;\n",
       "}\n",
       "\n",
       "#sk-container-id-1 div.sk-dashed-wrapped {\n",
       "  border: 1px dashed var(--sklearn-color-line);\n",
       "  margin: 0 0.4em 0.5em 0.4em;\n",
       "  box-sizing: border-box;\n",
       "  padding-bottom: 0.4em;\n",
       "  background-color: var(--sklearn-color-background);\n",
       "}\n",
       "\n",
       "#sk-container-id-1 div.sk-container {\n",
       "  /* jupyter's `normalize.less` sets `[hidden] { display: none; }`\n",
       "     but bootstrap.min.css set `[hidden] { display: none !important; }`\n",
       "     so we also need the `!important` here to be able to override the\n",
       "     default hidden behavior on the sphinx rendered scikit-learn.org.\n",
       "     See: https://github.com/scikit-learn/scikit-learn/issues/21755 */\n",
       "  display: inline-block !important;\n",
       "  position: relative;\n",
       "}\n",
       "\n",
       "#sk-container-id-1 div.sk-text-repr-fallback {\n",
       "  display: none;\n",
       "}\n",
       "\n",
       "div.sk-parallel-item,\n",
       "div.sk-serial,\n",
       "div.sk-item {\n",
       "  /* draw centered vertical line to link estimators */\n",
       "  background-image: linear-gradient(var(--sklearn-color-text-on-default-background), var(--sklearn-color-text-on-default-background));\n",
       "  background-size: 2px 100%;\n",
       "  background-repeat: no-repeat;\n",
       "  background-position: center center;\n",
       "}\n",
       "\n",
       "/* Parallel-specific style estimator block */\n",
       "\n",
       "#sk-container-id-1 div.sk-parallel-item::after {\n",
       "  content: \"\";\n",
       "  width: 100%;\n",
       "  border-bottom: 2px solid var(--sklearn-color-text-on-default-background);\n",
       "  flex-grow: 1;\n",
       "}\n",
       "\n",
       "#sk-container-id-1 div.sk-parallel {\n",
       "  display: flex;\n",
       "  align-items: stretch;\n",
       "  justify-content: center;\n",
       "  background-color: var(--sklearn-color-background);\n",
       "  position: relative;\n",
       "}\n",
       "\n",
       "#sk-container-id-1 div.sk-parallel-item {\n",
       "  display: flex;\n",
       "  flex-direction: column;\n",
       "}\n",
       "\n",
       "#sk-container-id-1 div.sk-parallel-item:first-child::after {\n",
       "  align-self: flex-end;\n",
       "  width: 50%;\n",
       "}\n",
       "\n",
       "#sk-container-id-1 div.sk-parallel-item:last-child::after {\n",
       "  align-self: flex-start;\n",
       "  width: 50%;\n",
       "}\n",
       "\n",
       "#sk-container-id-1 div.sk-parallel-item:only-child::after {\n",
       "  width: 0;\n",
       "}\n",
       "\n",
       "/* Serial-specific style estimator block */\n",
       "\n",
       "#sk-container-id-1 div.sk-serial {\n",
       "  display: flex;\n",
       "  flex-direction: column;\n",
       "  align-items: center;\n",
       "  background-color: var(--sklearn-color-background);\n",
       "  padding-right: 1em;\n",
       "  padding-left: 1em;\n",
       "}\n",
       "\n",
       "\n",
       "/* Toggleable style: style used for estimator/Pipeline/ColumnTransformer box that is\n",
       "clickable and can be expanded/collapsed.\n",
       "- Pipeline and ColumnTransformer use this feature and define the default style\n",
       "- Estimators will overwrite some part of the style using the `sk-estimator` class\n",
       "*/\n",
       "\n",
       "/* Pipeline and ColumnTransformer style (default) */\n",
       "\n",
       "#sk-container-id-1 div.sk-toggleable {\n",
       "  /* Default theme specific background. It is overwritten whether we have a\n",
       "  specific estimator or a Pipeline/ColumnTransformer */\n",
       "  background-color: var(--sklearn-color-background);\n",
       "}\n",
       "\n",
       "/* Toggleable label */\n",
       "#sk-container-id-1 label.sk-toggleable__label {\n",
       "  cursor: pointer;\n",
       "  display: block;\n",
       "  width: 100%;\n",
       "  margin-bottom: 0;\n",
       "  padding: 0.5em;\n",
       "  box-sizing: border-box;\n",
       "  text-align: center;\n",
       "}\n",
       "\n",
       "#sk-container-id-1 label.sk-toggleable__label-arrow:before {\n",
       "  /* Arrow on the left of the label */\n",
       "  content: \"▸\";\n",
       "  float: left;\n",
       "  margin-right: 0.25em;\n",
       "  color: var(--sklearn-color-icon);\n",
       "}\n",
       "\n",
       "#sk-container-id-1 label.sk-toggleable__label-arrow:hover:before {\n",
       "  color: var(--sklearn-color-text);\n",
       "}\n",
       "\n",
       "/* Toggleable content - dropdown */\n",
       "\n",
       "#sk-container-id-1 div.sk-toggleable__content {\n",
       "  max-height: 0;\n",
       "  max-width: 0;\n",
       "  overflow: hidden;\n",
       "  text-align: left;\n",
       "  /* unfitted */\n",
       "  background-color: var(--sklearn-color-unfitted-level-0);\n",
       "}\n",
       "\n",
       "#sk-container-id-1 div.sk-toggleable__content.fitted {\n",
       "  /* fitted */\n",
       "  background-color: var(--sklearn-color-fitted-level-0);\n",
       "}\n",
       "\n",
       "#sk-container-id-1 div.sk-toggleable__content pre {\n",
       "  margin: 0.2em;\n",
       "  border-radius: 0.25em;\n",
       "  color: var(--sklearn-color-text);\n",
       "  /* unfitted */\n",
       "  background-color: var(--sklearn-color-unfitted-level-0);\n",
       "}\n",
       "\n",
       "#sk-container-id-1 div.sk-toggleable__content.fitted pre {\n",
       "  /* unfitted */\n",
       "  background-color: var(--sklearn-color-fitted-level-0);\n",
       "}\n",
       "\n",
       "#sk-container-id-1 input.sk-toggleable__control:checked~div.sk-toggleable__content {\n",
       "  /* Expand drop-down */\n",
       "  max-height: 200px;\n",
       "  max-width: 100%;\n",
       "  overflow: auto;\n",
       "}\n",
       "\n",
       "#sk-container-id-1 input.sk-toggleable__control:checked~label.sk-toggleable__label-arrow:before {\n",
       "  content: \"▾\";\n",
       "}\n",
       "\n",
       "/* Pipeline/ColumnTransformer-specific style */\n",
       "\n",
       "#sk-container-id-1 div.sk-label input.sk-toggleable__control:checked~label.sk-toggleable__label {\n",
       "  color: var(--sklearn-color-text);\n",
       "  background-color: var(--sklearn-color-unfitted-level-2);\n",
       "}\n",
       "\n",
       "#sk-container-id-1 div.sk-label.fitted input.sk-toggleable__control:checked~label.sk-toggleable__label {\n",
       "  background-color: var(--sklearn-color-fitted-level-2);\n",
       "}\n",
       "\n",
       "/* Estimator-specific style */\n",
       "\n",
       "/* Colorize estimator box */\n",
       "#sk-container-id-1 div.sk-estimator input.sk-toggleable__control:checked~label.sk-toggleable__label {\n",
       "  /* unfitted */\n",
       "  background-color: var(--sklearn-color-unfitted-level-2);\n",
       "}\n",
       "\n",
       "#sk-container-id-1 div.sk-estimator.fitted input.sk-toggleable__control:checked~label.sk-toggleable__label {\n",
       "  /* fitted */\n",
       "  background-color: var(--sklearn-color-fitted-level-2);\n",
       "}\n",
       "\n",
       "#sk-container-id-1 div.sk-label label.sk-toggleable__label,\n",
       "#sk-container-id-1 div.sk-label label {\n",
       "  /* The background is the default theme color */\n",
       "  color: var(--sklearn-color-text-on-default-background);\n",
       "}\n",
       "\n",
       "/* On hover, darken the color of the background */\n",
       "#sk-container-id-1 div.sk-label:hover label.sk-toggleable__label {\n",
       "  color: var(--sklearn-color-text);\n",
       "  background-color: var(--sklearn-color-unfitted-level-2);\n",
       "}\n",
       "\n",
       "/* Label box, darken color on hover, fitted */\n",
       "#sk-container-id-1 div.sk-label.fitted:hover label.sk-toggleable__label.fitted {\n",
       "  color: var(--sklearn-color-text);\n",
       "  background-color: var(--sklearn-color-fitted-level-2);\n",
       "}\n",
       "\n",
       "/* Estimator label */\n",
       "\n",
       "#sk-container-id-1 div.sk-label label {\n",
       "  font-family: monospace;\n",
       "  font-weight: bold;\n",
       "  display: inline-block;\n",
       "  line-height: 1.2em;\n",
       "}\n",
       "\n",
       "#sk-container-id-1 div.sk-label-container {\n",
       "  text-align: center;\n",
       "}\n",
       "\n",
       "/* Estimator-specific */\n",
       "#sk-container-id-1 div.sk-estimator {\n",
       "  font-family: monospace;\n",
       "  border: 1px dotted var(--sklearn-color-border-box);\n",
       "  border-radius: 0.25em;\n",
       "  box-sizing: border-box;\n",
       "  margin-bottom: 0.5em;\n",
       "  /* unfitted */\n",
       "  background-color: var(--sklearn-color-unfitted-level-0);\n",
       "}\n",
       "\n",
       "#sk-container-id-1 div.sk-estimator.fitted {\n",
       "  /* fitted */\n",
       "  background-color: var(--sklearn-color-fitted-level-0);\n",
       "}\n",
       "\n",
       "/* on hover */\n",
       "#sk-container-id-1 div.sk-estimator:hover {\n",
       "  /* unfitted */\n",
       "  background-color: var(--sklearn-color-unfitted-level-2);\n",
       "}\n",
       "\n",
       "#sk-container-id-1 div.sk-estimator.fitted:hover {\n",
       "  /* fitted */\n",
       "  background-color: var(--sklearn-color-fitted-level-2);\n",
       "}\n",
       "\n",
       "/* Specification for estimator info (e.g. \"i\" and \"?\") */\n",
       "\n",
       "/* Common style for \"i\" and \"?\" */\n",
       "\n",
       ".sk-estimator-doc-link,\n",
       "a:link.sk-estimator-doc-link,\n",
       "a:visited.sk-estimator-doc-link {\n",
       "  float: right;\n",
       "  font-size: smaller;\n",
       "  line-height: 1em;\n",
       "  font-family: monospace;\n",
       "  background-color: var(--sklearn-color-background);\n",
       "  border-radius: 1em;\n",
       "  height: 1em;\n",
       "  width: 1em;\n",
       "  text-decoration: none !important;\n",
       "  margin-left: 1ex;\n",
       "  /* unfitted */\n",
       "  border: var(--sklearn-color-unfitted-level-1) 1pt solid;\n",
       "  color: var(--sklearn-color-unfitted-level-1);\n",
       "}\n",
       "\n",
       ".sk-estimator-doc-link.fitted,\n",
       "a:link.sk-estimator-doc-link.fitted,\n",
       "a:visited.sk-estimator-doc-link.fitted {\n",
       "  /* fitted */\n",
       "  border: var(--sklearn-color-fitted-level-1) 1pt solid;\n",
       "  color: var(--sklearn-color-fitted-level-1);\n",
       "}\n",
       "\n",
       "/* On hover */\n",
       "div.sk-estimator:hover .sk-estimator-doc-link:hover,\n",
       ".sk-estimator-doc-link:hover,\n",
       "div.sk-label-container:hover .sk-estimator-doc-link:hover,\n",
       ".sk-estimator-doc-link:hover {\n",
       "  /* unfitted */\n",
       "  background-color: var(--sklearn-color-unfitted-level-3);\n",
       "  color: var(--sklearn-color-background);\n",
       "  text-decoration: none;\n",
       "}\n",
       "\n",
       "div.sk-estimator.fitted:hover .sk-estimator-doc-link.fitted:hover,\n",
       ".sk-estimator-doc-link.fitted:hover,\n",
       "div.sk-label-container:hover .sk-estimator-doc-link.fitted:hover,\n",
       ".sk-estimator-doc-link.fitted:hover {\n",
       "  /* fitted */\n",
       "  background-color: var(--sklearn-color-fitted-level-3);\n",
       "  color: var(--sklearn-color-background);\n",
       "  text-decoration: none;\n",
       "}\n",
       "\n",
       "/* Span, style for the box shown on hovering the info icon */\n",
       ".sk-estimator-doc-link span {\n",
       "  display: none;\n",
       "  z-index: 9999;\n",
       "  position: relative;\n",
       "  font-weight: normal;\n",
       "  right: .2ex;\n",
       "  padding: .5ex;\n",
       "  margin: .5ex;\n",
       "  width: min-content;\n",
       "  min-width: 20ex;\n",
       "  max-width: 50ex;\n",
       "  color: var(--sklearn-color-text);\n",
       "  box-shadow: 2pt 2pt 4pt #999;\n",
       "  /* unfitted */\n",
       "  background: var(--sklearn-color-unfitted-level-0);\n",
       "  border: .5pt solid var(--sklearn-color-unfitted-level-3);\n",
       "}\n",
       "\n",
       ".sk-estimator-doc-link.fitted span {\n",
       "  /* fitted */\n",
       "  background: var(--sklearn-color-fitted-level-0);\n",
       "  border: var(--sklearn-color-fitted-level-3);\n",
       "}\n",
       "\n",
       ".sk-estimator-doc-link:hover span {\n",
       "  display: block;\n",
       "}\n",
       "\n",
       "/* \"?\"-specific style due to the `<a>` HTML tag */\n",
       "\n",
       "#sk-container-id-1 a.estimator_doc_link {\n",
       "  float: right;\n",
       "  font-size: 1rem;\n",
       "  line-height: 1em;\n",
       "  font-family: monospace;\n",
       "  background-color: var(--sklearn-color-background);\n",
       "  border-radius: 1rem;\n",
       "  height: 1rem;\n",
       "  width: 1rem;\n",
       "  text-decoration: none;\n",
       "  /* unfitted */\n",
       "  color: var(--sklearn-color-unfitted-level-1);\n",
       "  border: var(--sklearn-color-unfitted-level-1) 1pt solid;\n",
       "}\n",
       "\n",
       "#sk-container-id-1 a.estimator_doc_link.fitted {\n",
       "  /* fitted */\n",
       "  border: var(--sklearn-color-fitted-level-1) 1pt solid;\n",
       "  color: var(--sklearn-color-fitted-level-1);\n",
       "}\n",
       "\n",
       "/* On hover */\n",
       "#sk-container-id-1 a.estimator_doc_link:hover {\n",
       "  /* unfitted */\n",
       "  background-color: var(--sklearn-color-unfitted-level-3);\n",
       "  color: var(--sklearn-color-background);\n",
       "  text-decoration: none;\n",
       "}\n",
       "\n",
       "#sk-container-id-1 a.estimator_doc_link.fitted:hover {\n",
       "  /* fitted */\n",
       "  background-color: var(--sklearn-color-fitted-level-3);\n",
       "}\n",
       "</style><div id=\"sk-container-id-1\" class=\"sk-top-container\"><div class=\"sk-text-repr-fallback\"><pre>LinearRegression()</pre><b>In a Jupyter environment, please rerun this cell to show the HTML representation or trust the notebook. <br />On GitHub, the HTML representation is unable to render, please try loading this page with nbviewer.org.</b></div><div class=\"sk-container\" hidden><div class=\"sk-item\"><div class=\"sk-estimator fitted sk-toggleable\"><input class=\"sk-toggleable__control sk-hidden--visually\" id=\"sk-estimator-id-1\" type=\"checkbox\" checked><label for=\"sk-estimator-id-1\" class=\"sk-toggleable__label fitted sk-toggleable__label-arrow fitted\">&nbsp;&nbsp;LinearRegression<a class=\"sk-estimator-doc-link fitted\" rel=\"noreferrer\" target=\"_blank\" href=\"https://scikit-learn.org/1.5/modules/generated/sklearn.linear_model.LinearRegression.html\">?<span>Documentation for LinearRegression</span></a><span class=\"sk-estimator-doc-link fitted\">i<span>Fitted</span></span></label><div class=\"sk-toggleable__content fitted\"><pre>LinearRegression()</pre></div> </div></div></div></div>"
      ],
      "text/plain": [
       "LinearRegression()"
      ]
     },
     "execution_count": 14,
     "metadata": {},
     "output_type": "execute_result"
    }
   ],
   "source": [
    "lr.fit(x_train,y_train)"
   ]
  },
  {
   "cell_type": "markdown",
   "metadata": {},
   "source": [
    "<h4> Store the value of c </h4>"
   ]
  },
  {
   "cell_type": "code",
   "execution_count": 15,
   "metadata": {},
   "outputs": [
    {
     "data": {
      "text/plain": [
       "26.21967162109494"
      ]
     },
     "execution_count": 15,
     "metadata": {},
     "output_type": "execute_result"
    }
   ],
   "source": [
    "c = lr.intercept_\n",
    "c"
   ]
  },
  {
   "cell_type": "markdown",
   "metadata": {},
   "source": [
    "<h4> Store the value of m </h4>"
   ]
  },
  {
   "cell_type": "code",
   "execution_count": 16,
   "metadata": {},
   "outputs": [
    {
     "data": {
      "text/plain": [
       "array([3.0366728])"
      ]
     },
     "execution_count": 16,
     "metadata": {},
     "output_type": "execute_result"
    }
   ],
   "source": [
    "m = lr.coef_\n",
    "m"
   ]
  },
  {
   "cell_type": "markdown",
   "metadata": {},
   "source": [
    "<h4> Test the training data and get the predicted values </h4> "
   ]
  },
  {
   "cell_type": "code",
   "execution_count": 17,
   "metadata": {},
   "outputs": [
    {
     "data": {
      "text/plain": [
       "array([54.58219555, 60.62517442, 29.10451078, 77.60017536, 54.91622956,\n",
       "       40.5224005 , 41.43340234, 55.03769647, 43.25540602, 50.02718635,\n",
       "       61.59690971, 78.02530955, 59.86600622, 28.01130857, 57.25446761,\n",
       "       41.49413579, 54.64292901, 78.38971028, 52.91202551, 60.86810824,\n",
       "       44.98630951, 53.73192717, 62.29534446, 53.88376081, 84.22012206,\n",
       "       45.74547771, 80.45464779, 41.22083524, 50.48268727, 64.99798325,\n",
       "       30.28881317, 30.41028008, 83.4002204 , 59.53197221, 63.9655145 ,\n",
       "       80.81904852, 44.6522755 , 86.34579301, 82.97508621, 51.94029022,\n",
       "       37.85012844, 34.4490549 , 69.37079208, 49.41985179, 28.16314221,\n",
       "       66.00008527, 82.79288584, 32.62705122, 79.48291249, 71.1320623 ,\n",
       "       56.98116706, 38.27526263, 70.49436101, 62.9937792 , 44.22714131,\n",
       "       83.4002204 , 57.98326908, 46.89941337, 42.64807146, 56.9204336 ,\n",
       "       49.84498599, 45.56327734, 66.75925347, 34.84382237, 80.69758161,\n",
       "       76.81064043, 83.36985367, 86.37615974, 33.32548597, 79.02741157,\n",
       "       68.94565788, 59.92673967, 80.27244742, 61.87021026, 37.91086189,\n",
       "       60.95920843, 58.68170383, 31.95898321, 29.77257879, 59.80527276,\n",
       "       30.07624607, 61.17177552, 68.6419906 , 58.46913673, 51.30258893,\n",
       "       85.16149062, 44.31824149, 35.39042347, 36.9391266 , 65.24091707,\n",
       "       33.9024538 , 48.87325069, 48.38738304, 85.76882518, 53.30679298,\n",
       "       86.04212573, 67.94355586, 28.28460912, 42.10147035, 84.76672316,\n",
       "       77.20540789, 34.72235545, 57.43666798, 65.24091707, 46.20097863,\n",
       "       44.59154205, 72.19489778, 44.89520933, 38.51819645, 63.14561284,\n",
       "       78.45044374, 39.48993175, 46.99051356, 42.10147035, 31.92861648,\n",
       "       83.58242077, 67.03255402, 83.30912022, 32.77888486, 35.11712292,\n",
       "       76.90174061, 28.49717622, 38.00196208, 46.20097863, 73.37920017,\n",
       "       29.25634442, 82.06408437, 86.13322592, 34.96528928, 47.20308065,\n",
       "       43.86274058, 75.71743822, 43.80200712, 84.73635643, 31.16944828,\n",
       "       58.80317074, 64.45138214, 81.00124889, 30.16734626, 73.47030035,\n",
       "       31.68568266, 28.92231041, 43.77164039, 83.97718823, 84.22012206,\n",
       "       70.85876175, 62.96341247, 68.49015696, 72.40746487, 46.50464591,\n",
       "       61.20214225, 81.51748327, 73.4095669 , 49.90571944, 58.01363581,\n",
       "       86.74056048, 35.26895656, 64.48174887, 51.30258893, 81.91225073,\n",
       "       32.3841174 , 60.04820659, 40.03653285, 43.77164039, 78.23787664,\n",
       "       35.29932329, 47.56748139, 52.51725805, 30.77468082, 35.08675619,\n",
       "       58.80317074, 75.07973693, 42.46587109, 69.6137259 , 54.88586283,\n",
       "       63.29744648, 71.07132884, 43.61980675, 49.9664529 , 42.25330399,\n",
       "       75.65670477, 47.81041521, 42.49623782, 72.46819833, 44.37897495,\n",
       "       29.92441243, 72.89333252, 50.05755308, 47.99261558, 75.32267076,\n",
       "       57.07226724, 70.85876175, 55.79686467, 36.02812476, 86.13322592,\n",
       "       65.87861836, 55.49319739, 65.24091707, 31.0783481 , 85.16149062,\n",
       "       77.23577462, 52.94239224, 42.31403745, 42.67843818, 62.81157883,\n",
       "       81.66931691, 79.69547959, 80.84941525, 44.16640785, 73.92580127,\n",
       "       81.881884  , 49.11618452, 52.85129206, 38.21452917, 41.94963671,\n",
       "       79.69547959, 84.28085551, 85.13112389, 78.81484448, 49.90571944,\n",
       "       55.12879665, 64.57284905, 65.24091707, 75.86927186, 53.42825989,\n",
       "       39.94543267, 40.15799976, 67.1236542 , 38.48782972, 52.18322404,\n",
       "       29.59037843, 43.86274058, 66.97182056, 47.59784812, 33.47731961,\n",
       "       31.59458247, 31.6249492 , 76.2336726 , 79.33107885, 37.85012844,\n",
       "       51.94029022, 72.01269741, 75.32267076, 61.80947681, 47.02088028,\n",
       "       66.66815329, 35.99775803, 63.08487938, 77.41797499, 38.67003009,\n",
       "       34.35795472, 48.93398415, 53.79266062, 44.37897495, 44.22714131,\n",
       "       84.88819007, 83.21802003, 82.36775165, 68.18648968, 55.67539776,\n",
       "       68.94565788, 69.91739318, 31.8375163 , 84.64525625, 53.82302735,\n",
       "       64.69431597, 62.72047865, 36.99986005, 80.84941525, 48.9947176 ,\n",
       "       34.26685453, 73.65250072, 45.77584444, 64.78541615, 35.99775803,\n",
       "       29.89404571, 67.51842167, 34.60088854, 54.73402919, 67.27548784,\n",
       "       68.97602461, 59.68380585, 59.10683802, 38.51819645, 46.35281227,\n",
       "       60.26077368, 42.07110362, 65.69641799, 48.96435088, 45.32034352,\n",
       "       34.81345564, 31.50348229, 43.10357238, 35.9673913 , 71.58756322,\n",
       "       86.16359265, 83.88608805, 50.54342073, 54.15706136, 49.23765143,\n",
       "       39.30773138, 62.4471781 , 34.08465417, 50.63452091, 34.60088854,\n",
       "       51.2722222 , 59.47123875, 44.71300896, 41.79780307, 30.50138027,\n",
       "       36.87839314, 50.08791981, 76.14257241, 54.43036191, 73.31846671,\n",
       "       65.18018361, 39.33809811, 75.74780495, 76.0211055 , 75.86927186,\n",
       "       64.36028196, 72.80223234, 65.78751817, 63.72258067, 86.16359265,\n",
       "       83.82535459, 33.75062016, 33.29511924, 57.6796018 , 71.34462939,\n",
       "       33.1432856 , 45.13814315, 81.09234907, 53.06385915, 32.86998505,\n",
       "       75.93000532, 41.2815687 , 65.96971854, 47.53711466, 59.1979382 ,\n",
       "       70.12996027, 49.57168543, 63.9655145 , 73.31846671, 31.35164865,\n",
       "       56.43456596, 69.34042535, 29.07414405, 73.71323418, 85.13112389,\n",
       "       36.08885821, 58.07436927, 81.57821672, 43.01247219, 68.24722314,\n",
       "       63.93514777, 34.54015509, 50.96855492, 80.66721488, 49.51095198,\n",
       "       47.93188212, 63.17597957, 80.91014871, 85.92065882, 43.95384076,\n",
       "       39.03443083, 53.73192717, 32.71815141, 62.75084538, 49.05545106,\n",
       "       74.83680311, 58.71207056, 58.98537111, 72.83259906, 37.2731606 ,\n",
       "       56.9204336 , 79.39181231, 77.38760826, 83.49132058, 55.18953011,\n",
       "       30.80504755, 40.24909995, 62.72047865, 48.81251724, 81.42638308,\n",
       "       41.91926998, 60.29114041, 75.50487113, 60.95920843, 38.30562936,\n",
       "       36.02812476, 49.66278562, 61.53617626, 85.16149062, 30.41028008,\n",
       "       42.40513763, 40.88680123, 72.28599796, 85.52589136, 37.24279388,\n",
       "       64.90688306, 62.65974519, 65.18018361, 28.83121023, 44.43970841,\n",
       "       32.29301722, 86.37615974, 70.03886009, 58.46913673, 76.41587297,\n",
       "       62.29534446, 39.67213211, 41.79780307, 36.96949332, 36.21032513,\n",
       "       32.23228376, 57.64923508, 40.34020013, 53.5497268 , 58.56023692,\n",
       "       43.92347403, 69.4011588 , 81.51748327, 72.46819833, 44.31824149,\n",
       "       57.49740144, 60.53407423, 51.33295566, 54.52146209, 78.99704484,\n",
       "       49.69315235, 36.7265595 , 65.11945016, 78.69337756, 54.21779481,\n",
       "       69.97812663, 65.8178849 , 64.63358251, 35.84592439, 69.0671248 ,\n",
       "       66.72888674, 80.94051543, 51.02928838, 50.42195382, 62.93304574,\n",
       "       33.50768634, 59.28903839, 32.56631777, 63.66184722, 41.2815687 ,\n",
       "       58.71207056, 28.70974332, 70.3728941 , 31.0783481 , 78.75411102,\n",
       "       60.56444096, 38.00196208, 79.02741157, 74.95827002, 83.97718823,\n",
       "       32.11081685, 34.29722126, 75.59597131, 57.55813489, 55.70576449,\n",
       "       67.51842167, 35.99775803, 45.10777642, 80.30281415, 28.89194368,\n",
       "       38.48782972, 32.99145196, 42.83027182, 36.63545932, 57.25446761,\n",
       "       38.67003009, 80.78868179, 57.01153379, 34.78308891, 72.04306414,\n",
       "       65.75715145, 30.47101354, 37.72866152, 44.83447587, 84.00755496,\n",
       "       30.98724791, 29.22597769, 63.66184722, 79.63474613, 48.20518268,\n",
       "       82.94471948, 67.1236542 , 81.18344926, 61.90057699, 81.48711654,\n",
       "       40.97790142, 34.69198873, 80.84941525, 81.3352829 , 76.17293914,\n",
       "       80.60648143, 36.60509259, 39.33809811, 38.60929664, 56.85970015,\n",
       "       30.80504755, 49.7538858 , 68.82419097, 59.25867166, 55.49319739,\n",
       "       75.56560458, 84.9185568 , 47.1423472 , 73.47030035, 38.2448959 ,\n",
       "       32.99145196, 48.50884996, 31.50348229, 32.11081685, 38.88259719,\n",
       "       71.43572958, 42.07110362, 58.31730309, 55.31099702, 53.15495934,\n",
       "       29.52964497, 82.27665146, 36.96949332, 34.4490549 , 46.83867992,\n",
       "       47.20308065, 82.70178566, 62.90267902, 38.457463  , 38.791497  ,\n",
       "       29.95477916, 40.12763303, 32.20191703, 34.05428744, 50.30048691,\n",
       "       39.12553101, 67.5487884 , 44.37897495, 28.37570931, 36.54435913,\n",
       "       80.54574797, 69.00639134, 44.13604113, 75.07973693, 80.27244742,\n",
       "       52.54762478, 41.00826815, 70.9194952 , 38.12342899, 65.14981689,\n",
       "       74.86716984, 83.1876533 , 35.29932329, 32.80925159, 63.32781321,\n",
       "       71.80013031, 66.18228564, 28.46680949, 65.69641799, 77.87347591,\n",
       "       80.51538124, 50.60415419, 36.08885821, 86.92276085, 28.95267714,\n",
       "       64.05661468, 80.45464779, 71.40536285, 48.50884996, 48.41774977,\n",
       "       61.99167718, 59.28903839, 44.53080859, 77.17504116, 84.03792169,\n",
       "       57.49740144, 49.2072847 , 72.83259906, 79.08814503, 71.01059539,\n",
       "       55.12879665, 54.52146209, 85.34369099, 66.81998693, 46.99051356,\n",
       "       62.26497773, 69.58335917, 50.78635455, 85.28295753, 38.791497  ,\n",
       "       36.96949332, 75.01900348, 52.5779915 , 79.69547959, 86.10285919])"
      ]
     },
     "execution_count": 17,
     "metadata": {},
     "output_type": "execute_result"
    }
   ],
   "source": [
    "y_pred_train = lr.predict(x_train)\n",
    "y_pred_train"
   ]
  },
  {
   "cell_type": "markdown",
   "metadata": {},
   "source": [
    "<h4> Plot the actual data and the Regression Line </h4>"
   ]
  },
  {
   "cell_type": "code",
   "execution_count": 18,
   "metadata": {},
   "outputs": [
    {
     "data": {
      "text/plain": [
       "Text(0, 0.5, 'Delivery Time min')"
      ]
     },
     "execution_count": 18,
     "metadata": {},
     "output_type": "execute_result"
    },
    {
     "data": {
      "image/png": "[encoded data removed]",
      "text/plain": [
       "<Figure size 640x480 with 1 Axes>"
      ]
     },
     "metadata": {},
     "output_type": "display_data"
    }
   ],
   "source": [
    "plt.scatter(x_train,y_train)\n",
    "plt.plot(x_train,y_pred_train,color=\"red\")\n",
    "plt.xlabel(\"Distance km\")\n",
    "plt.ylabel(\"Delivery Time min\")"
   ]
  },
  {
   "cell_type": "markdown",
   "metadata": {},
   "source": [
    "<h4> Get the predictions for test values of x </h4>"
   ]
  },
  {
   "cell_type": "code",
   "execution_count": 19,
   "metadata": {},
   "outputs": [],
   "source": [
    "y_test_pred = lr.predict(x_test)"
   ]
  },
  {
   "cell_type": "markdown",
   "metadata": {},
   "source": [
    "<h4> Plot the actual values of the test data and the Regression Line </h4>"
   ]
  },
  {
   "cell_type": "code",
   "execution_count": 20,
   "metadata": {},
   "outputs": [
    {
     "data": {
      "text/plain": [
       "Text(0, 0.5, 'Delivery Time min')"
      ]
     },
     "execution_count": 20,
     "metadata": {},
     "output_type": "execute_result"
    },
    {
     "data": {
      "image/png": "[encoded data removed]",
      "text/plain": [
       "<Figure size 640x480 with 1 Axes>"
      ]
     },
     "metadata": {},
     "output_type": "display_data"
    }
   ],
   "source": [
    "plt.scatter(x_test,y_test)\n",
    "plt.plot(x_test,y_test_pred,color=\"red\")\n",
    "plt.xlabel(\"Distance km\")\n",
    "plt.ylabel(\"Delivery Time min\")"
   ]
  }
 ],
 "metadata": {
  "kernelspec": {
   "display_name": "base",
   "language": "python",
   "name": "python3"
  },
  "language_info": {
   "codemirror_mode": {
    "name": "ipython",
    "version": 3
   },
   "file_extension": ".py",
   "mimetype": "text/x-python",
   "name": "python",
   "nbconvert_exporter": "python",
   "pygments_lexer": "ipython3",
   "version": "3.12.7"
  }
 },
 "nbformat": 4,
 "nbformat_minor": 2
}
